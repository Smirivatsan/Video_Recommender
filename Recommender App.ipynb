{
 "cells": [
  {
   "cell_type": "code",
   "execution_count": 1,
   "id": "f5b66d22",
   "metadata": {},
   "outputs": [],
   "source": [
    "import pandas as pd\n",
    "import numpy as np\n",
    "import json"
   ]
  },
  {
   "cell_type": "code",
   "execution_count": 2,
   "id": "934d0b83",
   "metadata": {},
   "outputs": [],
   "source": [
    "def read_json(filename,encoding):\n",
    "    with open(filename, 'r', encoding=encoding) as file:\n",
    "        try:\n",
    "            data = json.load(file)  # json.load() reads and decodes JSON from a file\n",
    "            return data\n",
    "        except json.JSONDecodeError as e:\n",
    "            print(f\"Error decoding JSON: {e}\")\n"
   ]
  },
  {
   "cell_type": "code",
   "execution_count": 3,
   "id": "72c510c7",
   "metadata": {},
   "outputs": [
    {
     "name": "stdout",
     "output_type": "stream",
     "text": [
      "{'title': 'Top 10 hotels in Chennai: best 4 star hotels in Chennai, India', 'url': 'https://www.youtube.com/watch?v=oXNF8kdAWhg', 'channel': {'url': 'https://www.youtube.com/@15Top', 'name': 'The Most'}, 'tags': ['4 star hotels', 'best 4 star hotels', 'hotels in Chennai', 'Hotels in India', 'India resort', 'India', 'Hotels in chennai', 'India travel', 'best hotels', 'hotel review', 'hotel booking', 'hotel', 'resort', 'top hotel']}\n"
     ]
    }
   ],
   "source": [
    "test_video = read_json(\"C:/Users/Admin/Documents/FALL 24-25 COURSES/CSE4077 - Recommender Systems/Recommender App/Scraped videos/Travel & Events/Top 10 hotels in Chennai_ best 4 star hotels in Chennai, India.json\",\"utf-16\")\n",
    "print(test_video)"
   ]
  },
  {
   "cell_type": "code",
   "execution_count": 4,
   "id": "d1b6dedc",
   "metadata": {},
   "outputs": [
    {
     "data": {
      "text/plain": [
       "dict"
      ]
     },
     "execution_count": 4,
     "metadata": {},
     "output_type": "execute_result"
    }
   ],
   "source": [
    "type(test_video)"
   ]
  },
  {
   "cell_type": "code",
   "execution_count": 4,
   "id": "d08f4c18",
   "metadata": {},
   "outputs": [
    {
     "name": "stdout",
     "output_type": "stream",
     "text": [
      "{'title': 'Book Bebo-approved hotels with FLAT 25% off, only on the Goibibo App! (HINDI)', 'url': 'https://www.youtube.com/watch?v=TH91r0Cj7bc', 'channel': {'url': 'https://www.youtube.com/@goibibo', 'name': 'Goibibo'}, 'tags': ['Goibibo', 'Goibibo Hotels', 'Hotels Goibibo', 'Goibibodotcom', 'Goibibo Youtube', 'Goibibo Best Hotels', 'Kareena ad', 'Bebo ad', 'Goibibo offer on Hotels', 'Goibibo Hotel discount', 'Goibibo Hotel booking', 'Goibibo Hotel deal', 'Goibibo deal', 'Goibibo discount', 'Goibibo offer', 'Flat 25% off', '25% off on hotels', 'Kareena goibibo', 'bebeo goibibo', 'goibebo', 'kareena hotel discount', 'goibibo 25% off', 'goibibo 25% off on hotels', 'goibibo hotel offer', 'Poo hotel ad', 'Pooh hotel']}\n"
     ]
    }
   ],
   "source": [
    "test_ad = read_json(\"C:/Users/Admin/Documents/FALL 24-25 COURSES/CSE4077 - Recommender Systems/Recommender App/Ads/Book Bebo-approved hotels with FLAT 25% off, only on the Goibibo App! (HINDI).json\",\"utf-16\")\n",
    "print(test_ad)"
   ]
  },
  {
   "cell_type": "code",
   "execution_count": 4,
   "id": "62f6f265",
   "metadata": {},
   "outputs": [
    {
     "name": "stdout",
     "output_type": "stream",
     "text": [
      "{'Gaming': [\"let's play\", 'roguelike', 'gameplay', 'walkthrough', 'dlc', 'xbox', 'gameboy', 'boss', 'arcade', 'gaming', 'nintendo', 'playstation'], 'Sports': ['motorsports', 'athletics', 'championships', 'aussie rules', 'soccer', 'football', 'basketball', 'hockey', 'rugby', 'tennis'], 'Education': ['learn', 'programming', 'solve', 'science', 'tutorial', 'course', 'example', 'formula', 'facts'], 'Autos & Vehicles': ['engine', 'truck', 'car', 'suv', 'sedan', 'ford', 'auto', 'bus', 'drive', 'ferrari', 'nissan'], 'Music': ['vevo', 'album', 'lyrics', 'hits', 'country', 'music video', 'official music video'], 'Science & Technology': ['experiment', 'lab', 'energy', 'science', 'biology', 'physics', 'paleontology'], 'Pets & Animals': ['nature', 'animals', 'wildlife'], 'Food': ['recipe', 'cooking', 'homemade', 'cheese', 'pasta', 'homemade', 'food', 'lunch', 'dinner', 'meal', 'fry', 'gravy', 'curry', 'pepper'], 'Film & Animation': ['animation', 'disney', 'pixar', 'trailer', 'official trailer', 'anime', 'manga', 'spoilers']}\n"
     ]
    }
   ],
   "source": [
    "#Loading the tag database\n",
    "tag_db = read_json(\"tags_utf8.json\",\"utf-8\")\n",
    "print(tag_db)"
   ]
  },
  {
   "cell_type": "code",
   "execution_count": 4,
   "id": "4b12ea0e",
   "metadata": {},
   "outputs": [
    {
     "name": "stdout",
     "output_type": "stream",
     "text": [
      "[{'dex': 0, 'title': 'ASUS TUF Gaming A15 #AMD | 2023', 'url': 'https://www.youtube.com/watch?v=5Cx2UdL0LT0', 'channel': {'url': 'https://www.youtube.com/@ASUS', 'name': 'ASUS'}, 'tags': ['TUF Gaming', 'TUF Gaming A15', 'AMD Ryzen', 'QHD 165Hz Display', 'Durable Gaming Laptop']}, {'dex': 1, 'title': 'BLUE LOCK 2nd Season | OFFICIAL TRAILER', 'url': 'https://www.youtube.com/watch?v=StlX879LIGk', 'channel': {'url': 'https://www.youtube.com/@crunchyroll', 'name': 'Crunchyroll'}, 'tags': ['blue lock', 'blue lock anime', 'blue lock season 2', 'blue lock s2', 'blue lock season 2 pv', 'blue lock season 2 trailer', 'blue lock season 2 teaser', 'soccer anime', 'crunchyroll', 'anime', 'anime trailer', 'anime preview', 'anime pv']}, {'dex': 2, 'title': 'Book Bebo-approved hotels with FLAT 25% off, only on the Goibibo App! (HINDI)', 'url': 'https://www.youtube.com/watch?v=TH91r0Cj7bc', 'channel': {'url': 'https://www.youtube.com/@goibibo', 'name': 'Goibibo'}, 'tags': ['Goibibo', 'Goibibo Hotels', 'Hotels Goibibo', 'Goibibodotcom', 'Goibibo Youtube', 'Goibibo Best Hotels', 'Kareena ad', 'Bebo ad', 'Goibibo offer on Hotels', 'Goibibo Hotel discount', 'Goibibo Hotel booking', 'Goibibo Hotel deal', 'Goibibo deal', 'Goibibo discount', 'Goibibo offer', 'Flat 25% off', '25% off on hotels', 'Kareena goibibo', 'bebeo goibibo', 'goibebo', 'kareena hotel discount', 'goibibo 25% off', 'goibibo 25% off on hotels', 'goibibo hotel offer', 'Poo hotel ad', 'Pooh hotel']}]\n"
     ]
    }
   ],
   "source": [
    "ad_db = read_json(\"ad_db.json\",\"utf-8\")\n",
    "print(ad_db)"
   ]
  },
  {
   "cell_type": "code",
   "execution_count": 5,
   "id": "097b4cae",
   "metadata": {},
   "outputs": [],
   "source": [
    "def extract_tags(video):\n",
    "    #Split tags and remove duplicates\n",
    "    split_tags = []\n",
    "    for tag in video['tags']:\n",
    "        if(tag[0]>='A')and(tag[0]<='Z'):\n",
    "            tag = tag.lower()\n",
    "        split_tags.extend(tag.split(\" \")) #Break down compound tags\n",
    "        \n",
    "    #Remove duplicates\n",
    "    unique_tags = list(set(split_tags))\n",
    "    return unique_tags"
   ]
  },
  {
   "cell_type": "code",
   "execution_count": 6,
   "id": "ea64d257",
   "metadata": {},
   "outputs": [],
   "source": [
    "def find_correlation(test_video,test_ad):\n",
    "    x = \"\" #recommended ad's url\n",
    "    \n",
    "    videotags = extract_tags(test_video)\n",
    "    adtags = extract_tags(test_ad)\n",
    "    \n",
    "    for videotag in videotags:\n",
    "        for adtag in adtags:\n",
    "            if(adtag==videotag):\n",
    "                #print(adtag)\n",
    "                print(\"Recommended advertisement: \"+test_ad[\"title\"])\n",
    "                return test_ad['title']\n",
    "    return None"
   ]
  },
  {
   "cell_type": "code",
   "execution_count": 7,
   "id": "8d6d0582",
   "metadata": {},
   "outputs": [
    {
     "name": "stdout",
     "output_type": "stream",
     "text": [
      "Recommended advertisement: Book Bebo-approved hotels with FLAT 25% off, only on the Goibibo App! (HINDI)\n"
     ]
    }
   ],
   "source": [
    "target_title = \"\"\n",
    "for ad in ad_db:\n",
    "    target_title = find_correlation(test_video,ad)\n"
   ]
  },
  {
   "cell_type": "code",
   "execution_count": null,
   "id": "6e949afa",
   "metadata": {},
   "outputs": [],
   "source": [
    "print(target_title)"
   ]
  },
  {
   "cell_type": "code",
   "execution_count": 8,
   "id": "ec6cfd87",
   "metadata": {},
   "outputs": [
    {
     "name": "stdout",
     "output_type": "stream",
     "text": [
      "End of video\n"
     ]
    }
   ],
   "source": [
    "import cv2\n",
    "#import re\n",
    "from ffpyplayer.player import MediaPlayer\n",
    "\n",
    "target_title = target_title.replace(\"|\",\" \")\n",
    "\n",
    "folder = \"C:/Users/Admin/Documents/FALL 24-25 COURSES/CSE4077 - Recommender Systems/4K Video Downloader+/\"\n",
    "\n",
    "file= folder + target_title + \".mp4\"\n",
    "\n",
    "video=cv2.VideoCapture(file)\n",
    "player = MediaPlayer(file)\n",
    "while True:\n",
    "   ret, frame=video.read()\n",
    "   audio_frame, val = player.get_frame()\n",
    "   if not ret:\n",
    "      print(\"End of video\")\n",
    "      break\n",
    "   if cv2.waitKey(1) == ord(\"q\"):\n",
    "      break\n",
    "   cv2.imshow(\"Video\", frame)\n",
    "   if val != 'eof' and audio_frame is not None:\n",
    "      #audio\n",
    "      img, t = audio_frame\n",
    "video.release()\n",
    "cv2.destroyAllWindows()"
   ]
  },
  {
   "cell_type": "code",
   "execution_count": null,
   "id": "91b00117",
   "metadata": {},
   "outputs": [],
   "source": []
  }
 ],
 "metadata": {
  "kernelspec": {
   "display_name": "Python 3 (ipykernel)",
   "language": "python",
   "name": "python3"
  },
  "language_info": {
   "codemirror_mode": {
    "name": "ipython",
    "version": 3
   },
   "file_extension": ".py",
   "mimetype": "text/x-python",
   "name": "python",
   "nbconvert_exporter": "python",
   "pygments_lexer": "ipython3",
   "version": "3.9.12"
  }
 },
 "nbformat": 4,
 "nbformat_minor": 5
}
