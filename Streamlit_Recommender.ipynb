{
 "cells": [
  {
   "cell_type": "code",
   "execution_count": null,
   "id": "bccab26a",
   "metadata": {},
   "outputs": [],
   "source": [
    "import streamlit as st\n",
    "import json\n",
    "import requests\n",
    "import pandas as pd\n",
    "import numpy as np\n",
    "\n",
    "def read_json(filename,encoding):\n",
    "    with open(filename, 'r', encoding=encoding) as file:\n",
    "        try:\n",
    "            data = json.load(file)  # json.load() reads and decodes JSON from a file\n",
    "            return data\n",
    "        except json.JSONDecodeError as e:\n",
    "            print(f\"Error decoding JSON: {e}\")\n",
    "            \n",
    "# Tag database\n",
    "tag_db = read_json(\"tags_utf8.json\",\"utf-8\")\n",
    "\n",
    "# Function to find the best advertisement based on tags\n",
    "def find_correlation(test_video, ads):\n",
    "    for ad in ads:\n",
    "        for videotag in test_video['tags']:\n",
    "            if videotag in ad['tags']:\n",
    "                st.write(f\"Recommended advertisement: {ad['title']}\")\n",
    "                return ad['url']\n",
    "    return None\n",
    "\n",
    "# Main Streamlit application\n",
    "st.title(\"Video and Recommended Advertisement\")\n",
    "\n",
    "# Get video URL and tags from the user\n",
    "video_url = st.text_input(\"Enter the video URL\")\n",
    "video_tags = st.text_input(\"Enter video tags (comma-separated)\")\n",
    "\n",
    "# Button to recommend advertisement\n",
    "if st.button(\"Find Recommended Advertisement\"):\n",
    "    if video_url and video_tags:\n",
    "        # Process video tags and find a matching ad\n",
    "        test_video = {\"url\": video_url, \"tags\": video_tags.split(\",\")}\n",
    "        recommended_ad_url = find_correlation(test_video, sample_ads)\n",
    "        \n",
    "        # Display the input video\n",
    "        st.subheader(\"Your Video:\")\n",
    "        st.video(video_url)\n",
    "\n",
    "        # Display the recommended ad if found\n",
    "        if recommended_ad_url:\n",
    "            st.subheader(\"Recommended Advertisement:\")\n",
    "            st.video(recommended_ad_url)\n",
    "        else:\n",
    "            st.write(\"No suitable advertisement found.\")\n",
    "    else:\n",
    "        st.write(\"Please enter both the video URL and tags.\")"
   ]
  }
 ],
 "metadata": {
  "kernelspec": {
   "display_name": "Python 3 (ipykernel)",
   "language": "python",
   "name": "python3"
  },
  "language_info": {
   "codemirror_mode": {
    "name": "ipython",
    "version": 3
   },
   "file_extension": ".py",
   "mimetype": "text/x-python",
   "name": "python",
   "nbconvert_exporter": "python",
   "pygments_lexer": "ipython3",
   "version": "3.9.12"
  }
 },
 "nbformat": 4,
 "nbformat_minor": 5
}
